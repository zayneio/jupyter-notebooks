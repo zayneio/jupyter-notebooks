{
 "cells": [
  {
   "cell_type": "code",
   "execution_count": 1,
   "metadata": {},
   "outputs": [],
   "source": [
    "#hide\n",
    "!pip3 install -Uqq fastbook\n",
    "import fastbook\n",
    "fastbook.setup_book()"
   ]
  },
  {
   "cell_type": "code",
   "execution_count": 2,
   "metadata": {},
   "outputs": [],
   "source": [
    "#hide\n",
    "from fastbook import *\n",
    "from fastai.vision.widgets import *"
   ]
  },
  {
   "cell_type": "code",
   "execution_count": 3,
   "metadata": {},
   "outputs": [],
   "source": [
    "# Note: the steps to get a 'free' api key for this are non-trivial. \n",
    "# You have to create an azure/microsoft account, put up a credit card, create a new *resource group*,\n",
    "# deploy a new bingsearchv7 instance in azure,\n",
    "# (their sign up flow is *extensive*),\n",
    "# so for now this code will just throw a key error.\n",
    "\n",
    "import os\n",
    "from fastai.vision.all import *\n",
    "from azure.cognitiveservices.search.imagesearch import ImageSearchClient as api\n",
    "\n",
    "# see https://github.com/fastai/fastbook/blob/master/utils.py#\n",
    "def search_images_bing(key, term, min_sz=128):\n",
    "    client = api('https://api.cognitive.microsoft.com', auth(key))\n",
    "    return L(client.images.search(query=term, count=150, min_height=min_sz, min_width=min_sz).value)"
   ]
  },
  {
   "cell_type": "code",
   "execution_count": 4,
   "metadata": {},
   "outputs": [
    {
     "data": {
      "text/plain": [
       "150"
      ]
     },
     "execution_count": 4,
     "metadata": {},
     "output_type": "execute_result"
    }
   ],
   "source": [
    "key = os.environ['AZURE_SEARCH_KEY']\n",
    "\n",
    "results = search_images_bing(key, 'grizzly bear')\n",
    "ims = results.attrgot('content_url')\n",
    "len(ims)\n"
   ]
  },
  {
   "cell_type": "code",
   "execution_count": 8,
   "metadata": {},
   "outputs": [
    {
     "name": "stdout",
     "output_type": "stream",
     "text": [
      "http://2.bp.blogspot.com/-NjMTuklENdE/UHzVv_8dIxI/AAAAAAAAA-U/tNBsQDn8kFI/s1600/Grizzly+Bear+Pic.jpg\n",
      "grizzly.jpg\n"
     ]
    },
    {
     "data": {
      "text/html": [],
      "text/plain": [
       "<IPython.core.display.HTML object>"
      ]
     },
     "metadata": {},
     "output_type": "display_data"
    }
   ],
   "source": [
    "dest = 'images/grizzly.jpg'\n",
    "print(ims[0])\n",
    "print(dest)\n",
    "download_url(ims[0], dest)\n",
    "\n",
    "im = Image.open(dest)\n",
    "im.to_thumb(128,128)"
   ]
  },
  {
   "cell_type": "code",
   "execution_count": null,
   "metadata": {},
   "outputs": [],
   "source": [
    "bear_types = 'grizzly', 'black', 'teddy'\n",
    "path = Path('bears')\n",
    "\n",
    "if not path.exists():\n",
    "    path.mkdir()\n",
    "    for o in bear_types:\n",
    "        dest = (path/o)\n",
    "        dest.mkdir(exist_ok=True)\n",
    "        results = search_images_bing(key, f'{o} bear')\n",
    "        download_images(dest, urls=results.attrgot('content_url'))"
   ]
  },
  {
   "cell_type": "code",
   "execution_count": null,
   "metadata": {},
   "outputs": [],
   "source": [
    "fns = get_image_files(path)\n",
    "fns\n",
    "\n",
    "# check for corrupt image files\n",
    "failed = verify_images(fns)\n",
    "failed\n",
    "\n",
    "failed.map(Path.unlink);"
   ]
  },
  {
   "cell_type": "code",
   "execution_count": 22,
   "metadata": {},
   "outputs": [],
   "source": [
    "# Note: to inspect/lear more about a given function, you can type ??[method_name] into a cell and run it. \n",
    "# For example:\n",
    "??verify_images"
   ]
  },
  {
   "cell_type": "code",
   "execution_count": 23,
   "metadata": {},
   "outputs": [],
   "source": [
    "??download_url"
   ]
  },
  {
   "cell_type": "code",
   "execution_count": null,
   "metadata": {},
   "outputs": [],
   "source": []
  }
 ],
 "metadata": {
  "kernelspec": {
   "display_name": "Python 3",
   "language": "python",
   "name": "python3"
  },
  "language_info": {
   "codemirror_mode": {
    "name": "ipython",
    "version": 3
   },
   "file_extension": ".py",
   "mimetype": "text/x-python",
   "name": "python",
   "nbconvert_exporter": "python",
   "pygments_lexer": "ipython3",
   "version": "3.8.5"
  }
 },
 "nbformat": 4,
 "nbformat_minor": 4
}
